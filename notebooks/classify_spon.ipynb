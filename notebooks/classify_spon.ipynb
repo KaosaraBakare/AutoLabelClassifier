{
 "cells": [
  {
   "cell_type": "markdown",
   "metadata": {},
   "source": [
    "#  Spondylolisthesis Classification\n",
    "\n",
    "This notebook trains classifiers to detect spondylolisthesis in MRI scans, using automated labels from the LLM pipeline."
   ]
  },
  {
   "cell_type": "code",
   "execution_count": 1,
   "metadata": {},
   "outputs": [],
   "source": [
    "import pickle\n",
    "import pandas as pd\n",
    "import numpy as np\n",
    "import torch\n",
    "import misvm\n",
    "import matplotlib.pyplot as plt\n",
    "\n",
    "from sklearn import svm\n",
    "from sklearn.pipeline import make_pipeline\n",
    "from sklearn.preprocessing import StandardScaler\n",
    "from sklearn.metrics import roc_auc_score, f1_score, balanced_accuracy_score, roc_curve, classification_report, confusion_matrix, ConfusionMatrixDisplay\n",
    "\n",
    "ivd_arrays_path = '/work/robinpark/AutoLabelClassifier/data/osclmric_ivd_arrays/april2024_splits'"
   ]
  },
  {
   "cell_type": "code",
   "execution_count": 2,
   "metadata": {},
   "outputs": [],
   "source": [
    "# Pickle the dictionary\n",
    "with open(f'{ivd_arrays_path}/spon_samples_dict.pkl', 'rb') as handle:\n",
    "    samples = pickle.load(handle)"
   ]
  },
  {
   "cell_type": "code",
   "execution_count": 3,
   "metadata": {},
   "outputs": [],
   "source": [
    "train_samples = samples['train_samples']\n",
    "val_samples = samples['val_samples']\n",
    "test_samples = samples['test_samples']"
   ]
  },
  {
   "cell_type": "code",
   "execution_count": 4,
   "metadata": {},
   "outputs": [],
   "source": [
    "# Summarise splits\n",
    "def sum_samples(samples):\n",
    "    df = pd.DataFrame.from_dict(samples, orient='index', columns=['results']).reset_index()\n",
    "\n",
    "    # Split index into columns\n",
    "    df[['pat_id','date','level']] = df['index'].str.split('_',expand=True)\n",
    "\n",
    "    # Sum rows by pat_id, date, level, and unique results \n",
    "    df = df.groupby(['pat_id','date','level','results']).size().reset_index(name='counts')\n",
    "\n",
    "    df['pat_stu_id'] = df['pat_id'] + '_' + df['date']\n",
    "\n",
    "    print('unique pat:', len(df[['pat_id']].drop_duplicates()))\n",
    "    print('unique studies:', len(df[['pat_stu_id']].drop_duplicates()))\n",
    "\n",
    "    display(df.groupby(['results'])[['counts']].sum())"
   ]
  },
  {
   "cell_type": "code",
   "execution_count": 5,
   "metadata": {},
   "outputs": [],
   "source": [
    "df = pd.DataFrame.from_dict(train_samples, orient='index', columns=['results']).reset_index()\n",
    "\n",
    "# Split index into columns\n",
    "df[['pat_id','date','level']] = df['index'].str.split('_',expand=True)\n",
    "\n",
    "# Sum rows by pat_id, date, level, and unique results \n",
    "df = df.groupby(['pat_id','date','level','results']).size().reset_index(name='counts')\n",
    "\n",
    "df['pat_id_date'] = df['pat_id'] + '_' + df['date']"
   ]
  },
  {
   "cell_type": "code",
   "execution_count": 6,
   "metadata": {},
   "outputs": [
    {
     "name": "stdout",
     "output_type": "stream",
     "text": [
      "unique pat: 1358\n",
      "unique studies: 1923\n"
     ]
    },
    {
     "data": {
      "text/html": [
       "<div>\n",
       "<style scoped>\n",
       "    .dataframe tbody tr th:only-of-type {\n",
       "        vertical-align: middle;\n",
       "    }\n",
       "\n",
       "    .dataframe tbody tr th {\n",
       "        vertical-align: top;\n",
       "    }\n",
       "\n",
       "    .dataframe thead th {\n",
       "        text-align: right;\n",
       "    }\n",
       "</style>\n",
       "<table border=\"1\" class=\"dataframe\">\n",
       "  <thead>\n",
       "    <tr style=\"text-align: right;\">\n",
       "      <th></th>\n",
       "      <th>counts</th>\n",
       "    </tr>\n",
       "    <tr>\n",
       "      <th>results</th>\n",
       "      <th></th>\n",
       "    </tr>\n",
       "  </thead>\n",
       "  <tbody>\n",
       "    <tr>\n",
       "      <th>0</th>\n",
       "      <td>5033</td>\n",
       "    </tr>\n",
       "    <tr>\n",
       "      <th>1</th>\n",
       "      <td>725</td>\n",
       "    </tr>\n",
       "  </tbody>\n",
       "</table>\n",
       "</div>"
      ],
      "text/plain": [
       "         counts\n",
       "results        \n",
       "0          5033\n",
       "1           725"
      ]
     },
     "metadata": {},
     "output_type": "display_data"
    }
   ],
   "source": [
    "sum_samples(train_samples)"
   ]
  },
  {
   "cell_type": "code",
   "execution_count": 7,
   "metadata": {},
   "outputs": [
    {
     "name": "stdout",
     "output_type": "stream",
     "text": [
      "unique pat: 151\n",
      "unique studies: 216\n"
     ]
    },
    {
     "data": {
      "text/html": [
       "<div>\n",
       "<style scoped>\n",
       "    .dataframe tbody tr th:only-of-type {\n",
       "        vertical-align: middle;\n",
       "    }\n",
       "\n",
       "    .dataframe tbody tr th {\n",
       "        vertical-align: top;\n",
       "    }\n",
       "\n",
       "    .dataframe thead th {\n",
       "        text-align: right;\n",
       "    }\n",
       "</style>\n",
       "<table border=\"1\" class=\"dataframe\">\n",
       "  <thead>\n",
       "    <tr style=\"text-align: right;\">\n",
       "      <th></th>\n",
       "      <th>counts</th>\n",
       "    </tr>\n",
       "    <tr>\n",
       "      <th>results</th>\n",
       "      <th></th>\n",
       "    </tr>\n",
       "  </thead>\n",
       "  <tbody>\n",
       "    <tr>\n",
       "      <th>0</th>\n",
       "      <td>567</td>\n",
       "    </tr>\n",
       "    <tr>\n",
       "      <th>1</th>\n",
       "      <td>78</td>\n",
       "    </tr>\n",
       "  </tbody>\n",
       "</table>\n",
       "</div>"
      ],
      "text/plain": [
       "         counts\n",
       "results        \n",
       "0           567\n",
       "1            78"
      ]
     },
     "metadata": {},
     "output_type": "display_data"
    }
   ],
   "source": [
    "sum_samples(val_samples)"
   ]
  },
  {
   "cell_type": "code",
   "execution_count": 8,
   "metadata": {},
   "outputs": [
    {
     "name": "stdout",
     "output_type": "stream",
     "text": [
      "unique pat: 146\n",
      "unique studies: 151\n"
     ]
    },
    {
     "data": {
      "text/html": [
       "<div>\n",
       "<style scoped>\n",
       "    .dataframe tbody tr th:only-of-type {\n",
       "        vertical-align: middle;\n",
       "    }\n",
       "\n",
       "    .dataframe tbody tr th {\n",
       "        vertical-align: top;\n",
       "    }\n",
       "\n",
       "    .dataframe thead th {\n",
       "        text-align: right;\n",
       "    }\n",
       "</style>\n",
       "<table border=\"1\" class=\"dataframe\">\n",
       "  <thead>\n",
       "    <tr style=\"text-align: right;\">\n",
       "      <th></th>\n",
       "      <th>counts</th>\n",
       "    </tr>\n",
       "    <tr>\n",
       "      <th>results</th>\n",
       "      <th></th>\n",
       "    </tr>\n",
       "  </thead>\n",
       "  <tbody>\n",
       "    <tr>\n",
       "      <th>0</th>\n",
       "      <td>240</td>\n",
       "    </tr>\n",
       "    <tr>\n",
       "      <th>1</th>\n",
       "      <td>213</td>\n",
       "    </tr>\n",
       "  </tbody>\n",
       "</table>\n",
       "</div>"
      ],
      "text/plain": [
       "         counts\n",
       "results        \n",
       "0           240\n",
       "1           213"
      ]
     },
     "metadata": {},
     "output_type": "display_data"
    }
   ],
   "source": [
    "sum_samples(test_samples)"
   ]
  },
  {
   "cell_type": "markdown",
   "metadata": {},
   "source": [
    "## ResNet Encodings + SVC"
   ]
  },
  {
   "cell_type": "code",
   "execution_count": 9,
   "metadata": {},
   "outputs": [],
   "source": [
    "with open(f'{ivd_arrays_path}/spon_resnet_encodings.pkl', 'rb') as handle:\n",
    "    ce_resnet_encodings = pickle.load(handle)\n",
    "\n",
    "train_features_cpu = ce_resnet_encodings['train_features_cpu']\n",
    "label_train_array = ce_resnet_encodings['label_train_array']\n",
    "\n",
    "val_features_cpu = ce_resnet_encodings['val_features_cpu']\n",
    "label_val_array = ce_resnet_encodings['label_val_array']\n",
    "\n",
    "test_features_cpu = ce_resnet_encodings['test_features_cpu']\n",
    "label_test_array = ce_resnet_encodings['label_test_array']"
   ]
  },
  {
   "cell_type": "code",
   "execution_count": 10,
   "metadata": {},
   "outputs": [],
   "source": [
    "# Load pickled arrays\n",
    "with open(f'{ivd_arrays_path}/spon_arrays_dict.pkl', 'rb') as handle:\n",
    "    ce_array_dict = pickle.load(handle)\n",
    "\n",
    "label_test_report = ce_array_dict['label_test_report']\n",
    "label_test_scores = ce_array_dict['label_test_scores']\n",
    "label_test_con = ce_array_dict['label_test_con']\n",
    "compare_test_array = ce_array_dict['compare_test_array']\n",
    "\n",
    "test_pat_id_date = ce_array_dict['test_pat_id_date']\n",
    "val_pat_id_date = ce_array_dict['val_pat_id_date']\n",
    "train_pat_id_date = ce_array_dict['train_pat_id_date']"
   ]
  },
  {
   "cell_type": "code",
   "execution_count": 11,
   "metadata": {},
   "outputs": [],
   "source": [
    "# Standardise\n",
    "scaler = StandardScaler()\n",
    "train_features_cpu = scaler.fit_transform(train_features_cpu)\n",
    "val_features_cpu = scaler.transform(val_features_cpu)\n",
    "test_features_cpu = scaler.transform(test_features_cpu)"
   ]
  },
  {
   "cell_type": "code",
   "execution_count": 12,
   "metadata": {},
   "outputs": [],
   "source": [
    "train_features_cpu = [torch.Tensor(i) for i in train_features_cpu]\n",
    "val_features_cpu = [torch.Tensor(i) for i in val_features_cpu]\n",
    "test_features_cpu = [torch.Tensor(i) for i in test_features_cpu]"
   ]
  },
  {
   "cell_type": "markdown",
   "metadata": {},
   "source": [
    "### MIL-SVM"
   ]
  },
  {
   "cell_type": "code",
   "execution_count": 13,
   "metadata": {},
   "outputs": [],
   "source": [
    "def create_mil_bags(features, labels, patient_slices):\n",
    "    # Combine features, labels, and patient slices into a DataFrame\n",
    "    df = pd.DataFrame({'Features': features, 'Labels': labels, 'Patient_Slices': patient_slices})\n",
    "    \n",
    "    # Group by patient\n",
    "    grouped = df.groupby('Patient_Slices')\n",
    "    \n",
    "    mil_bags = []\n",
    "    mil_label = []\n",
    "    \n",
    "    for patient_slice, group in grouped:\n",
    "        bag_features = group['Features'].tolist()\n",
    "        \n",
    "        bag_label = group['Labels'].max()\n",
    "        if bag_label == 0:\n",
    "            bag_label = -1\n",
    "        \n",
    "        # Add bag to MIL bags\n",
    "        mil_bags.append(bag_features)\n",
    "        mil_label.append(bag_label)\n",
    "    \n",
    "    return mil_bags, mil_label"
   ]
  },
  {
   "cell_type": "code",
   "execution_count": 14,
   "metadata": {},
   "outputs": [],
   "source": [
    "# Remove _ if found at end of element\n",
    "train_pat_id_date = [i[:-1] if i[-1] == '_' else i for i in train_pat_id_date]\n",
    "val_pat_id_date = [i[:-1] if i[-1] == '_' else i for i in val_pat_id_date]\n",
    "\n",
    "# Remove _T if found at end of element\n",
    "train_pat_id_date = [i[:-2] if i[-2] == '_T' else i for i in train_pat_id_date]\n",
    "val_pat_id_date = [i[:-2] if i[-2] == '_T' else i for i in val_pat_id_date]"
   ]
  },
  {
   "cell_type": "code",
   "execution_count": 15,
   "metadata": {},
   "outputs": [],
   "source": [
    "train_bags, train_labels = create_mil_bags(train_features_cpu, label_train_array, train_pat_id_date)\n",
    "test_bags, test_labels = create_mil_bags(test_features_cpu, label_test_array, test_pat_id_date)\n",
    "val_bags, val_labels = create_mil_bags(val_features_cpu, label_val_array, val_pat_id_date)"
   ]
  },
  {
   "cell_type": "code",
   "execution_count": 16,
   "metadata": {},
   "outputs": [],
   "source": [
    "def eval_mil(model):\n",
    "\n",
    "    mil_val_scores = model.predict(val_bags)\n",
    "    mil_val_pred = np.sign(mil_val_scores)\n",
    "\n",
    "    fpr, tpr, thresholds = roc_curve(val_labels, mil_val_scores)\n",
    "\n",
    "    # Find the point where FPR equals FRR\n",
    "    val_eer_threshold = thresholds[np.nanargmin(np.absolute((1 - tpr) - fpr))]\n",
    "    val_eer = fpr[np.nanargmin(np.absolute((1 - tpr) - fpr))]  # Equal to FRR\n",
    "\n",
    "    print('Validation Balanced Accuracy:', balanced_accuracy_score(val_labels, mil_val_pred))\n",
    "    print('Validation F1 Score:', f1_score(val_labels, mil_val_pred))\n",
    "    print('Validation AUC:', roc_auc_score(val_labels, mil_val_scores))\n",
    "    print('Validation EER:', val_eer)\n",
    "    print('Validation EER Threshold:', val_eer_threshold)\n",
    "\n",
    "    mil_test_scores = model.predict(test_bags)\n",
    "    mil_test_pred = np.where(mil_test_scores > val_eer_threshold, 1, -1)\n",
    "\n",
    "    fpr, tpr, thresholds = roc_curve(test_labels, mil_test_scores)\n",
    "\n",
    "    # Find the point where FPR equals FRR\n",
    "    test_eer_threshold = thresholds[np.nanargmin(np.absolute((1 - tpr) - fpr))]\n",
    "    test_eer = fpr[np.nanargmin(np.absolute((1 - tpr) - fpr))]  # Equal to FRR\n",
    "\n",
    "    print('\\nTest Balanced Accuracy:', balanced_accuracy_score(test_labels, mil_test_pred))\n",
    "    print('Test F1 Score:', f1_score(test_labels, mil_test_pred))\n",
    "    print('Test AUC:', roc_auc_score(test_labels, mil_test_scores))\n",
    "    print('Test EER:', test_eer)\n",
    "    print('Test EER Threshold:', test_eer_threshold)\n",
    "\n",
    "    display_labels = ['No Spon', 'Spon']\n",
    "    class_report = classification_report(test_labels, mil_test_pred, target_names=display_labels)\n",
    "    conf_mat = confusion_matrix(test_labels, mil_test_pred)\n",
    "\n",
    "    disp = ConfusionMatrixDisplay(confusion_matrix=conf_mat,\n",
    "                                display_labels=display_labels)\n",
    "\n",
    "    print(class_report)\n",
    "    disp.plot(cmap=plt.cm.Blues)\n",
    "    plt.show()\n",
    "\n",
    "    return mil_test_pred, mil_test_scores"
   ]
  },
  {
   "cell_type": "markdown",
   "metadata": {},
   "source": [
    "### Resample"
   ]
  },
  {
   "cell_type": "code",
   "execution_count": 17,
   "metadata": {},
   "outputs": [],
   "source": [
    "# Separate positive and negative bags\n",
    "pos_train_bags = [bag for bag, label in zip(train_bags, train_labels) if label == 1]\n",
    "neg_train_bags = [bag for bag, label in zip(train_bags, train_labels) if label == -1]"
   ]
  },
  {
   "cell_type": "code",
   "execution_count": 18,
   "metadata": {},
   "outputs": [
    {
     "data": {
      "text/plain": [
       "243"
      ]
     },
     "execution_count": 18,
     "metadata": {},
     "output_type": "execute_result"
    }
   ],
   "source": [
    "len(pos_train_bags)"
   ]
  },
  {
   "cell_type": "code",
   "execution_count": 19,
   "metadata": {},
   "outputs": [
    {
     "data": {
      "text/plain": [
       "1680"
      ]
     },
     "execution_count": 19,
     "metadata": {},
     "output_type": "execute_result"
    }
   ],
   "source": [
    "len(neg_train_bags)"
   ]
  },
  {
   "cell_type": "code",
   "execution_count": 20,
   "metadata": {},
   "outputs": [],
   "source": [
    "# Double the negative examples to balance\n",
    "pos_train_bags_rs = pos_train_bags * 7\n",
    "neg_train_bags_rs = neg_train_bags[:len(pos_train_bags_rs)]\n",
    "\n",
    "train_bags_rs = pos_train_bags_rs + neg_train_bags_rs\n",
    "train_labels_rs = [1] * len(pos_train_bags_rs) + [-1] * len(neg_train_bags_rs)"
   ]
  },
  {
   "cell_type": "code",
   "execution_count": 21,
   "metadata": {},
   "outputs": [
    {
     "name": "stdout",
     "output_type": "stream",
     "text": [
      "[[  -1 1680]\n",
      " [   1 1701]]\n"
     ]
    }
   ],
   "source": [
    "# Count the values in train_lables\n",
    "unique, counts = np.unique(train_labels_rs, return_counts=True)\n",
    "print(np.asarray((unique, counts)).T)"
   ]
  },
  {
   "cell_type": "markdown",
   "metadata": {},
   "source": [
    "#### SIL\n",
    "Applying bag-level label to every instance"
   ]
  },
  {
   "cell_type": "code",
   "execution_count": 22,
   "metadata": {},
   "outputs": [
    {
     "name": "stdout",
     "output_type": "stream",
     "text": [
      "     pcost       dcost       gap    pres   dres\n",
      " 0: -3.2114e+03 -5.5274e+00  1e+05  4e+02  1e-11\n",
      " 1: -5.0361e+01 -5.4078e+00  2e+03  5e+00  1e-11\n",
      " 2: -4.7968e+00 -3.5130e+00  1e+02  3e-01  6e-13\n",
      " 3: -9.9211e-01 -3.0111e+00  1e+01  3e-02  5e-14\n",
      " 4: -6.2455e-01 -2.1557e+00  2e+00  1e-03  4e-15\n",
      " 5: -6.7860e-01 -9.9087e-01  3e-01  2e-04  2e-15\n",
      " 6: -7.4660e-01 -8.4773e-01  1e-01  4e-05  2e-15\n",
      " 7: -7.7063e-01 -8.0679e-01  4e-02  1e-05  2e-15\n",
      " 8: -7.8172e-01 -7.8965e-01  8e-03  2e-06  2e-15\n",
      " 9: -7.8418e-01 -7.8624e-01  2e-03  2e-07  2e-15\n",
      "10: -7.8495e-01 -7.8531e-01  4e-04  3e-08  2e-15\n",
      "11: -7.8509e-01 -7.8514e-01  5e-05  4e-09  2e-15\n",
      "12: -7.8511e-01 -7.8512e-01  5e-06  9e-17  2e-15\n",
      "13: -7.8512e-01 -7.8512e-01  1e-07  2e-16  2e-15\n",
      "Optimal solution found.\n"
     ]
    }
   ],
   "source": [
    "sil_svm = misvm.SIL(kernel='linear', C=1)\n",
    "sil_svm.fit(train_bags_rs, train_labels_rs)"
   ]
  },
  {
   "cell_type": "code",
   "execution_count": 23,
   "metadata": {},
   "outputs": [
    {
     "name": "stdout",
     "output_type": "stream",
     "text": [
      "Validation Balanced Accuracy: 0.7002024291497976\n",
      "Validation F1 Score: 0.3262411347517731\n",
      "Validation AUC: 0.7682186234817814\n",
      "Validation EER: 0.24210526315789474\n",
      "Validation EER Threshold: 0.41823805816291404\n",
      "\n",
      "Test Balanced Accuracy: 0.7599471830985915\n",
      "Test F1 Score: 0.7428571428571429\n",
      "Test AUC: 0.8433098591549296\n",
      "Test EER: 0.2625\n",
      "Test EER Threshold: 0.37245200596293604\n",
      "              precision    recall  f1-score   support\n",
      "\n",
      "     No Spon       0.77      0.79      0.78        80\n",
      "        Spon       0.75      0.73      0.74        71\n",
      "\n",
      "    accuracy                           0.76       151\n",
      "   macro avg       0.76      0.76      0.76       151\n",
      "weighted avg       0.76      0.76      0.76       151\n",
      "\n"
     ]
    },
    {
     "data": {
      "image/png": "[encoded data removed]",
      "text/plain": [
       "<Figure size 640x480 with 2 Axes>"
      ]
     },
     "metadata": {},
     "output_type": "display_data"
    }
   ],
   "source": [
    "sil_test_pred, sil_test_scores = eval_mil(sil_svm)"
   ]
  },
  {
   "cell_type": "markdown",
   "metadata": {},
   "source": [
    "#### MISVM \n",
    "Maximising bag margin with max positive instance for positive bags and min negative instance for negative bags (Andrews, Tsochantaridis, Hofmann, 2002)"
   ]
  },
  {
   "cell_type": "code",
   "execution_count": 24,
   "metadata": {},
   "outputs": [
    {
     "name": "stdout",
     "output_type": "stream",
     "text": [
      "Non-random start...\n",
      "\n",
      "Iteration 1...\n",
      "Training SVM...\n",
      "     pcost       dcost       gap    pres   dres\n",
      " 0: -1.5050e+03 -1.6050e+01  6e+04  2e+02  6e-12\n",
      " 1: -2.3312e+01 -1.5954e+01  8e+02  3e+00  6e-12\n",
      " 2: -4.1564e+00 -1.4980e+01  4e+01  1e-01  2e-13\n",
      " 3: -3.2812e+00 -1.0126e+01  1e+01  2e-02  4e-14\n",
      " 4: -3.4648e+00 -5.2008e+00  2e+00  3e-03  1e-14\n",
      " 5: -3.7610e+00 -4.6735e+00  1e+00  1e-03  8e-15\n",
      " 6: -3.9525e+00 -4.3707e+00  4e-01  4e-04  8e-15\n",
      " 7: -4.0260e+00 -4.2736e+00  3e-01  2e-04  9e-15\n",
      " 8: -4.0815e+00 -4.2055e+00  1e-01  8e-05  9e-15\n",
      " 9: -4.1171e+00 -4.1665e+00  5e-02  3e-05  1e-14\n",
      "10: -4.1361e+00 -4.1468e+00  1e-02  1e-06  1e-14\n",
      "11: -4.1408e+00 -4.1434e+00  3e-03  3e-07  2e-14\n",
      "12: -4.1422e+00 -4.1425e+00  3e-04  2e-08  2e-14\n",
      "13: -4.1423e+00 -4.1424e+00  1e-05  9e-10  4e-14\n",
      "14: -4.1424e+00 -4.1424e+00  4e-07  2e-11  2e-13\n",
      "Optimal solution found.\n",
      "Recomputing classes...\n",
      "Selector differences: 6734\n",
      "Updating QP...\n",
      "\n",
      "Iteration 2...\n",
      "Training SVM...\n",
      "     pcost       dcost       gap    pres   dres\n",
      " 0: -1.0095e+03 -1.6098e+01  6e+04  2e+02  6e-12\n",
      " 1: -1.6109e+01 -1.6055e+01  8e+02  3e+00  6e-12\n",
      " 2: -3.5565e+00 -1.4896e+01  7e+01  2e-01  4e-13\n",
      " 3: -2.3104e+00 -1.0682e+01  2e+01  3e-02  7e-14\n",
      " 4: -2.1983e+00 -4.0159e+00  2e+00  2e-03  1e-14\n",
      " 5: -2.4747e+00 -3.4068e+00  1e+00  7e-04  9e-15\n",
      " 6: -2.5900e+00 -3.2331e+00  7e-01  4e-04  8e-15\n",
      " 7: -2.6701e+00 -3.1139e+00  5e-01  2e-04  9e-15\n",
      " 8: -2.7290e+00 -3.0270e+00  3e-01  1e-04  9e-15\n",
      " 9: -2.7849e+00 -2.9525e+00  2e-01  6e-05  1e-14\n",
      "10: -2.8187e+00 -2.9105e+00  9e-02  3e-05  1e-14\n",
      "11: -2.8477e+00 -2.8758e+00  3e-02  3e-06  1e-14\n",
      "12: -2.8585e+00 -2.8659e+00  7e-03  6e-08  1e-14\n",
      "13: -2.8618e+00 -2.8636e+00  2e-03  1e-08  1e-14\n",
      "14: -2.8628e+00 -2.8629e+00  1e-04  2e-10  2e-14\n",
      "15: -2.8629e+00 -2.8629e+00  5e-06  7e-12  4e-14\n",
      "16: -2.8629e+00 -2.8629e+00  9e-08  1e-13  1e-13\n",
      "Optimal solution found.\n",
      "Recomputing classes...\n",
      "Selector differences: 91\n",
      "Updating QP...\n",
      "\n",
      "Iteration 3...\n",
      "Training SVM...\n",
      "     pcost       dcost       gap    pres   dres\n",
      " 0: -9.8701e+02 -1.5339e+01  5e+04  2e+02  6e-12\n",
      " 1: -1.6043e+01 -1.5299e+01  7e+02  3e+00  5e-12\n",
      " 2: -3.4506e+00 -1.4184e+01  6e+01  2e-01  4e-13\n",
      " 3: -2.2923e+00 -1.0066e+01  1e+01  3e-02  6e-14\n",
      " 4: -2.1766e+00 -4.0238e+00  2e+00  2e-03  1e-14\n",
      " 5: -2.4304e+00 -3.3615e+00  1e+00  9e-04  1e-14\n",
      " 6: -2.5043e+00 -3.2399e+00  8e-01  6e-04  9e-15\n",
      " 7: -2.6103e+00 -3.0640e+00  5e-01  3e-04  1e-14\n",
      " 8: -2.6995e+00 -2.9303e+00  2e-01  1e-04  1e-14\n",
      " 9: -2.7310e+00 -2.8868e+00  2e-01  7e-05  1e-14\n",
      "10: -2.7620e+00 -2.8476e+00  9e-02  3e-05  1e-14\n",
      "11: -2.7853e+00 -2.8186e+00  3e-02  5e-06  1e-14\n",
      "12: -2.7981e+00 -2.8073e+00  9e-03  7e-07  1e-14\n",
      "13: -2.8024e+00 -2.8040e+00  2e-03  1e-09  1e-14\n",
      "14: -2.8032e+00 -2.8034e+00  2e-04  1e-10  1e-14\n",
      "15: -2.8034e+00 -2.8034e+00  2e-05  8e-12  3e-14\n",
      "16: -2.8034e+00 -2.8034e+00  3e-07  2e-13  5e-14\n",
      "Optimal solution found.\n",
      "Recomputing classes...\n",
      "Selector differences: 63\n",
      "Updating QP...\n",
      "\n",
      "Iteration 4...\n",
      "Training SVM...\n",
      "     pcost       dcost       gap    pres   dres\n",
      " 0: -9.8307e+02 -1.5906e+01  6e+04  2e+02  6e-12\n",
      " 1: -1.5511e+01 -1.5868e+01  7e+02  3e+00  6e-12\n",
      " 2: -3.4126e+00 -1.4698e+01  6e+01  2e-01  4e-13\n",
      " 3: -2.2611e+00 -1.0373e+01  1e+01  3e-02  7e-14\n",
      " 4: -2.1447e+00 -4.1162e+00  2e+00  3e-03  1e-14\n",
      " 5: -2.3794e+00 -3.4430e+00  1e+00  1e-03  1e-14\n",
      " 6: -2.4730e+00 -3.2659e+00  8e-01  7e-04  9e-15\n",
      " 7: -2.5858e+00 -3.0615e+00  5e-01  4e-04  9e-15\n",
      " 8: -2.6438e+00 -2.9694e+00  3e-01  2e-04  9e-15\n",
      " 9: -2.7052e+00 -2.8789e+00  2e-01  1e-04  1e-14\n",
      "10: -2.7383e+00 -2.8349e+00  1e-01  5e-05  1e-14\n",
      "11: -2.7650e+00 -2.8018e+00  4e-02  1e-05  1e-14\n",
      "12: -2.7768e+00 -2.7883e+00  1e-02  2e-06  1e-14\n",
      "13: -2.7810e+00 -2.7846e+00  4e-03  2e-15  1e-14\n",
      "14: -2.7830e+00 -2.7834e+00  4e-04  1e-15  1e-14\n",
      "15: -2.7832e+00 -2.7832e+00  2e-05  4e-15  1e-14\n",
      "16: -2.7832e+00 -2.7832e+00  4e-07  2e-15  4e-14\n",
      "Optimal solution found.\n",
      "Recomputing classes...\n",
      "Selector differences: 14\n",
      "Updating QP...\n",
      "\n",
      "Iteration 5...\n",
      "Training SVM...\n",
      "     pcost       dcost       gap    pres   dres\n",
      " 0: -9.8276e+02 -1.6150e+01  6e+04  2e+02  6e-12\n",
      " 1: -1.5737e+01 -1.6106e+01  8e+02  3e+00  6e-12\n",
      " 2: -3.4229e+00 -1.4926e+01  7e+01  2e-01  4e-13\n",
      " 3: -2.2466e+00 -1.0564e+01  2e+01  3e-02  7e-14\n",
      " 4: -2.1283e+00 -4.2145e+00  2e+00  3e-03  1e-14\n",
      " 5: -2.3802e+00 -3.4140e+00  1e+00  1e-03  1e-14\n",
      " 6: -2.4675e+00 -3.2528e+00  8e-01  7e-04  9e-15\n",
      " 7: -2.5772e+00 -3.0550e+00  5e-01  4e-04  1e-14\n",
      " 8: -2.6455e+00 -2.9486e+00  3e-01  2e-04  1e-14\n",
      " 9: -2.6972e+00 -2.8735e+00  2e-01  1e-04  1e-14\n",
      "10: -2.7283e+00 -2.8306e+00  1e-01  5e-05  1e-14\n",
      "11: -2.7539e+00 -2.7978e+00  4e-02  2e-05  1e-14\n",
      "12: -2.7657e+00 -2.7829e+00  2e-02  3e-15  1e-14\n",
      "13: -2.7738e+00 -2.7773e+00  3e-03  1e-15  1e-14\n",
      "14: -2.7757e+00 -2.7760e+00  3e-04  2e-15  1e-14\n",
      "15: -2.7759e+00 -2.7759e+00  1e-05  7e-16  2e-14\n",
      "16: -2.7759e+00 -2.7759e+00  2e-07  1e-15  7e-14\n",
      "Optimal solution found.\n",
      "Recomputing classes...\n",
      "Selector differences: 14\n",
      "Updating QP...\n",
      "\n",
      "Iteration 6...\n",
      "Training SVM...\n",
      "     pcost       dcost       gap    pres   dres\n",
      " 0: -9.8225e+02 -1.6261e+01  6e+04  2e+02  6e-12\n",
      " 1: -1.5713e+01 -1.6211e+01  8e+02  3e+00  6e-12\n",
      " 2: -3.4260e+00 -1.5018e+01  7e+01  2e-01  5e-13\n",
      " 3: -2.2476e+00 -1.0642e+01  2e+01  3e-02  7e-14\n",
      " 4: -2.1198e+00 -4.2691e+00  2e+00  3e-03  1e-14\n",
      " 5: -2.3758e+00 -3.4047e+00  1e+00  1e-03  1e-14\n",
      " 6: -2.4675e+00 -3.2357e+00  8e-01  7e-04  1e-14\n",
      " 7: -2.5838e+00 -3.0267e+00  5e-01  4e-04  1e-14\n",
      " 8: -2.6440e+00 -2.9322e+00  3e-01  2e-04  1e-14\n",
      " 9: -2.6988e+00 -2.8524e+00  2e-01  8e-05  1e-14\n",
      "10: -2.7421e+00 -2.7948e+00  5e-02  1e-05  1e-14\n",
      "11: -2.7571e+00 -2.7774e+00  2e-02  3e-07  1e-14\n",
      "12: -2.7658e+00 -2.7710e+00  5e-03  6e-08  1e-14\n",
      "13: -2.7684e+00 -2.7692e+00  8e-04  7e-09  1e-14\n",
      "14: -2.7689e+00 -2.7689e+00  3e-05  1e-10  2e-14\n",
      "15: -2.7689e+00 -2.7689e+00  9e-07  3e-12  4e-14\n",
      "Optimal solution found.\n",
      "Recomputing classes...\n",
      "Selector differences: 7\n",
      "Updating QP...\n",
      "\n",
      "Iteration 7...\n",
      "Training SVM...\n",
      "     pcost       dcost       gap    pres   dres\n",
      " 0: -9.8137e+02 -1.6180e+01  6e+04  2e+02  6e-12\n",
      " 1: -1.5807e+01 -1.6127e+01  8e+02  3e+00  6e-12\n",
      " 2: -3.4292e+00 -1.4938e+01  7e+01  2e-01  4e-13\n",
      " 3: -2.2522e+00 -1.0601e+01  2e+01  3e-02  7e-14\n",
      " 4: -2.1215e+00 -4.2849e+00  3e+00  3e-03  1e-14\n",
      " 5: -2.3737e+00 -3.4154e+00  1e+00  1e-03  1e-14\n",
      " 6: -2.4701e+00 -3.2341e+00  8e-01  7e-04  1e-14\n",
      " 7: -2.5810e+00 -3.0338e+00  5e-01  4e-04  1e-14\n",
      " 8: -2.6435e+00 -2.9344e+00  3e-01  2e-04  1e-14\n",
      " 9: -2.6991e+00 -2.8526e+00  2e-01  8e-05  1e-14\n",
      "10: -2.7407e+00 -2.7969e+00  6e-02  2e-05  1e-14\n",
      "11: -2.7572e+00 -2.7779e+00  2e-02  1e-06  1e-14\n",
      "12: -2.7659e+00 -2.7711e+00  5e-03  2e-07  1e-14\n",
      "13: -2.7684e+00 -2.7692e+00  8e-04  3e-08  1e-14\n",
      "14: -2.7689e+00 -2.7689e+00  4e-05  8e-10  1e-14\n",
      "15: -2.7689e+00 -2.7689e+00  1e-06  2e-11  3e-14\n",
      "Optimal solution found.\n",
      "Recomputing classes...\n",
      "Selector differences: 0\n"
     ]
    }
   ],
   "source": [
    "MISVM = misvm.MISVM(kernel='linear', C=10)\n",
    "MISVM.fit(train_bags_rs, train_labels_rs)"
   ]
  },
  {
   "cell_type": "code",
   "execution_count": 25,
   "metadata": {},
   "outputs": [
    {
     "name": "stdout",
     "output_type": "stream",
     "text": [
      "Validation Balanced Accuracy: 0.6997975708502024\n",
      "Validation F1 Score: 0.3855421686746988\n",
      "Validation AUC: 0.7825910931174089\n",
      "Validation EER: 0.28421052631578947\n",
      "Validation EER Threshold: -0.20102937689288447\n",
      "\n",
      "Test Balanced Accuracy: 0.7779929577464788\n",
      "Test F1 Score: 0.7763157894736842\n",
      "Test AUC: 0.8890845070422535\n",
      "Test EER: 0.2\n",
      "Test EER Threshold: -0.06034072043001548\n",
      "              precision    recall  f1-score   support\n",
      "\n",
      "     No Spon       0.83      0.72      0.77        80\n",
      "        Spon       0.73      0.83      0.78        71\n",
      "\n",
      "    accuracy                           0.77       151\n",
      "   macro avg       0.78      0.78      0.77       151\n",
      "weighted avg       0.78      0.77      0.77       151\n",
      "\n"
     ]
    },
    {
     "data": {
      "image/png": "[encoded data removed]",
      "text/plain": [
       "<Figure size 640x480 with 2 Axes>"
      ]
     },
     "metadata": {},
     "output_type": "display_data"
    }
   ],
   "source": [
    "mi_test_pred, mi_test_scores = eval_mil(MISVM)"
   ]
  },
  {
   "cell_type": "markdown",
   "metadata": {},
   "source": [
    "### NSK-SVM\n",
    "Maps entire bags to features, using distance between two bags to generate the kernel (Gärtner et al, 2002)"
   ]
  },
  {
   "cell_type": "code",
   "execution_count": 26,
   "metadata": {},
   "outputs": [
    {
     "name": "stdout",
     "output_type": "stream",
     "text": [
      "Setup QP...\n",
      "Solving QP...\n",
      "     pcost       dcost       gap    pres   dres\n",
      " 0: -6.3282e+02 -3.6171e+01  3e+04  2e+02  3e-12\n",
      " 1: -3.7600e+01 -3.1939e+01  1e+03  7e+00  3e-12\n",
      " 2: -8.8453e+00 -2.6238e+01  1e+02  6e-01  3e-13\n",
      " 3: -4.7895e+00 -2.0710e+01  2e+01  4e-02  3e-14\n",
      " 4: -4.9639e+00 -8.6510e+00  4e+00  7e-03  9e-15\n",
      " 5: -5.5205e+00 -6.6764e+00  1e+00  1e-03  8e-15\n",
      " 6: -5.7416e+00 -6.1875e+00  5e-01  3e-04  9e-15\n",
      " 7: -5.8397e+00 -5.9854e+00  1e-01  7e-05  9e-15\n",
      " 8: -5.8720e+00 -5.9244e+00  5e-02  2e-05  9e-15\n",
      " 9: -5.8859e+00 -5.8992e+00  1e-02  9e-07  9e-15\n",
      "10: -5.8907e+00 -5.8925e+00  2e-03  9e-08  9e-15\n",
      "11: -5.8913e+00 -5.8915e+00  2e-04  8e-09  9e-15\n",
      "12: -5.8914e+00 -5.8914e+00  1e-05  5e-10  9e-15\n",
      "13: -5.8914e+00 -5.8914e+00  5e-06  1e-10  9e-15\n",
      "Optimal solution found.\n"
     ]
    }
   ],
   "source": [
    "nsk_svm = misvm.NSK(kernel='linear_av', C=10)\n",
    "nsk_svm.fit(train_bags_rs, train_labels_rs)"
   ]
  },
  {
   "cell_type": "code",
   "execution_count": 27,
   "metadata": {},
   "outputs": [
    {
     "name": "stdout",
     "output_type": "stream",
     "text": [
      "Validation Balanced Accuracy: 0.7050607287449393\n",
      "Validation F1 Score: 0.3950617283950617\n",
      "Validation AUC: 0.7850202429149797\n",
      "Validation EER: 0.32105263157894737\n",
      "Validation EER Threshold: -0.26889001314055155\n",
      "\n",
      "Test Balanced Accuracy: 0.7803697183098591\n",
      "Test F1 Score: 0.7848101265822784\n",
      "Test AUC: 0.8549295774647887\n",
      "Test EER: 0.25\n",
      "Test EER Threshold: -0.033293017504112066\n",
      "              precision    recall  f1-score   support\n",
      "\n",
      "     No Spon       0.86      0.69      0.76        80\n",
      "        Spon       0.71      0.87      0.78        71\n",
      "\n",
      "    accuracy                           0.77       151\n",
      "   macro avg       0.79      0.78      0.77       151\n",
      "weighted avg       0.79      0.77      0.77       151\n",
      "\n"
     ]
    },
    {
     "data": {
      "image/png": "[encoded data removed]",
      "text/plain": [
       "<Figure size 640x480 with 2 Axes>"
      ]
     },
     "metadata": {},
     "output_type": "display_data"
    }
   ],
   "source": [
    "mil_test_pred, mil_test_scores = eval_mil(nsk_svm)"
   ]
  },
  {
   "cell_type": "markdown",
   "metadata": {},
   "source": [
    "## SpineNetv2 Classifier"
   ]
  },
  {
   "cell_type": "code",
   "execution_count": 28,
   "metadata": {},
   "outputs": [],
   "source": [
    "with open(f'{ivd_arrays_path}/spon_spinenet_encodings.pkl', 'rb') as handle:\n",
    "    osclmric_spinenet_encodings = pickle.load(handle)\n",
    "\n",
    "ivd_train_encodings = osclmric_spinenet_encodings['ivd_train_encodings'] \n",
    "label_train_array = osclmric_spinenet_encodings['label_train_array'] \n",
    "spnt_label_train_array = osclmric_spinenet_encodings['spnt_label_train_array'] \n",
    "\n",
    "ivd_val_encodings = osclmric_spinenet_encodings['ivd_val_encodings'] \n",
    "label_val_array = osclmric_spinenet_encodings['label_val_array'] \n",
    "spnt_label_val_array = osclmric_spinenet_encodings['spnt_label_val_array'] \n",
    "\n",
    "ivd_test_encodings = osclmric_spinenet_encodings['ivd_test_encodings'] \n",
    "label_test_array = osclmric_spinenet_encodings['label_test_array']\n",
    "spnt_label_test_array = osclmric_spinenet_encodings['spnt_label_test_array']\n"
   ]
  },
  {
   "cell_type": "code",
   "execution_count": 29,
   "metadata": {},
   "outputs": [],
   "source": [
    "def create_sp_mil_bags(features, labels, sp_labels, patient_slices):\n",
    "    # Combine features, labels, and patient slices into a DataFrame\n",
    "    df = pd.DataFrame({'Features': features, 'Labels': labels, 'Spinenet_Labels': sp_labels, 'Patient_Slices': patient_slices})\n",
    "    \n",
    "    # Group by patient\n",
    "    grouped = df.groupby('Patient_Slices')\n",
    "    \n",
    "    mil_bags = []\n",
    "    mil_label = []\n",
    "    sp_mil_label = []\n",
    "    \n",
    "    for patient_slice, group in grouped:\n",
    "        bag_features = group['Features'].tolist()\n",
    "        \n",
    "        bag_label = group['Labels'].max()\n",
    "        if bag_label == 0:\n",
    "            bag_label = -1\n",
    "\n",
    "        sp_bag_label = group['Spinenet_Labels'].max()\n",
    "        if sp_bag_label == 0:\n",
    "            sp_bag_label = -1\n",
    "        \n",
    "        # Add bag to MIL bags\n",
    "        mil_bags.append(bag_features)\n",
    "        mil_label.append(bag_label)\n",
    "        sp_mil_label.append(sp_bag_label)\n",
    "    \n",
    "    return mil_bags, mil_label, sp_mil_label"
   ]
  },
  {
   "cell_type": "code",
   "execution_count": 30,
   "metadata": {},
   "outputs": [],
   "source": [
    "train_bags, train_labels, sp_train_labels = create_sp_mil_bags(ivd_train_encodings, label_train_array, spnt_label_train_array, train_pat_id_date)\n",
    "test_bags, test_labels, sp_test_labels = create_sp_mil_bags(ivd_test_encodings, label_test_array, spnt_label_test_array, test_pat_id_date)\n",
    "val_bags, val_labels, sp_val_labels = create_sp_mil_bags(ivd_val_encodings, label_val_array, spnt_label_val_array, val_pat_id_date)"
   ]
  },
  {
   "cell_type": "code",
   "execution_count": 31,
   "metadata": {},
   "outputs": [
    {
     "name": "stdout",
     "output_type": "stream",
     "text": [
      "Balanced Accuracy: 0.861\n",
      "F1: 0.853\n"
     ]
    }
   ],
   "source": [
    "# Classifier performance \n",
    "acc = (np.array(sp_test_labels) == np.array(test_labels)).sum() / len(label_test_array)\n",
    "bal_acc = balanced_accuracy_score(test_labels, sp_test_labels)\n",
    "f1 = f1_score(test_labels, sp_test_labels)\n",
    "print(f'Balanced Accuracy: {bal_acc:.3f}')\n",
    "print(f'F1: {f1:.3f}')"
   ]
  },
  {
   "cell_type": "code",
   "execution_count": 32,
   "metadata": {},
   "outputs": [],
   "source": [
    "# Separate positive and negative bags\n",
    "pos_train_bags = [bag for bag, label in zip(train_bags, train_labels) if label == 1]\n",
    "neg_train_bags = [bag for bag, label in zip(train_bags, train_labels) if label == -1]"
   ]
  },
  {
   "cell_type": "code",
   "execution_count": 33,
   "metadata": {},
   "outputs": [],
   "source": [
    "# Double the negative examples to balance\n",
    "pos_train_bags_rs = pos_train_bags * 7\n",
    "neg_train_bags_rs = neg_train_bags[:len(pos_train_bags_rs)]\n",
    "\n",
    "train_bags_rs = pos_train_bags_rs + neg_train_bags_rs\n",
    "train_labels_rs = [1] * len(pos_train_bags_rs) + [-1] * len(neg_train_bags_rs)"
   ]
  },
  {
   "cell_type": "code",
   "execution_count": 34,
   "metadata": {},
   "outputs": [
    {
     "name": "stdout",
     "output_type": "stream",
     "text": [
      "Setup QP...\n",
      "Solving QP...\n",
      "     pcost       dcost       gap    pres   dres\n",
      " 0: -9.8283e+02 -6.2450e+01  3e+04  2e+02  1e-12\n",
      " 1: -7.1535e+01 -3.1705e+01  1e+03  8e+00  2e-12\n",
      " 2: -1.0039e+01 -2.6531e+01  1e+02  5e-01  1e-13\n",
      " 3: -6.0971e+00 -1.8691e+01  1e+01  2e-03  1e-14\n",
      " 4: -6.7851e+00 -9.1018e+00  2e+00  3e-04  9e-15\n",
      " 5: -7.3149e+00 -8.0011e+00  7e-01  5e-05  9e-15\n",
      " 6: -7.4715e+00 -7.7441e+00  3e-01  1e-05  1e-14\n",
      " 7: -7.5441e+00 -7.6320e+00  9e-02  4e-06  1e-14\n",
      " 8: -7.5705e+00 -7.5948e+00  2e-02  8e-07  1e-14\n",
      " 9: -7.5792e+00 -7.5833e+00  4e-03  8e-08  1e-14\n",
      "10: -7.5809e+00 -7.5812e+00  3e-04  5e-09  1e-14\n",
      "11: -7.5811e+00 -7.5811e+00  6e-06  1e-10  1e-14\n",
      "Optimal solution found.\n"
     ]
    }
   ],
   "source": [
    "nsk_svm = misvm.NSK(kernel='linear_av', C=10)\n",
    "nsk_svm.fit(train_bags_rs, train_labels_rs)"
   ]
  },
  {
   "cell_type": "code",
   "execution_count": 35,
   "metadata": {},
   "outputs": [
    {
     "name": "stdout",
     "output_type": "stream",
     "text": [
      "Validation Balanced Accuracy: 0.7311740890688259\n",
      "Validation F1 Score: 0.3958333333333333\n",
      "Validation AUC: 0.8119433198380567\n",
      "Validation EER: 0.26842105263157895\n",
      "Validation EER Threshold: 0.004135296860261317\n",
      "\n",
      "Test Balanced Accuracy: 0.8577464788732394\n",
      "Test F1 Score: 0.8552631578947368\n",
      "Test AUC: 0.9107394366197182\n",
      "Test EER: 0.1375\n",
      "Test EER Threshold: 0.18712643037657686\n",
      "              precision    recall  f1-score   support\n",
      "\n",
      "     No Spon       0.91      0.80      0.85        80\n",
      "        Spon       0.80      0.92      0.86        71\n",
      "\n",
      "    accuracy                           0.85       151\n",
      "   macro avg       0.86      0.86      0.85       151\n",
      "weighted avg       0.86      0.85      0.85       151\n",
      "\n"
     ]
    },
    {
     "data": {
      "image/png": "[encoded data removed]",
      "text/plain": [
       "<Figure size 640x480 with 2 Axes>"
      ]
     },
     "metadata": {},
     "output_type": "display_data"
    }
   ],
   "source": [
    "sp_mil_test_pred, sp_mil_test_scores = eval_mil(nsk_svm)"
   ]
  },
  {
   "cell_type": "markdown",
   "metadata": {},
   "source": [
    "### Visualise Results"
   ]
  },
  {
   "cell_type": "code",
   "execution_count": 36,
   "metadata": {},
   "outputs": [],
   "source": [
    "# Load pickled arrays\n",
    "with open(f'{ivd_arrays_path}/spon_arrays_dict.pkl', 'rb') as handle:\n",
    "    ncimi_array_dict = pickle.load(handle)\n",
    "\n",
    "ivd_train_array = ncimi_array_dict['ivd_train_array']\n",
    "label_train_array = ncimi_array_dict['label_train_array']\n",
    "\n",
    "ivd_val_array = ncimi_array_dict['ivd_val_array']\n",
    "label_val_array = ncimi_array_dict['label_val_array']\n",
    "\n",
    "ivd_test_array = ncimi_array_dict['ivd_test_array']\n",
    "label_test_array = ncimi_array_dict['label_test_array']\n",
    "label_test_report = ncimi_array_dict['label_test_report']\n",
    "label_test_scores = ncimi_array_dict['label_test_scores']\n",
    "label_test_con = ncimi_array_dict['label_test_con']\n",
    "compare_test_array = ncimi_array_dict['compare_test_array']\n",
    "ivd_test_array_names = []"
   ]
  },
  {
   "cell_type": "code",
   "execution_count": 37,
   "metadata": {},
   "outputs": [],
   "source": [
    "def mil_level_report(\n",
    "    label_test_report, label_test_con, label_test_scores, \n",
    "    compare_test_array, ivd_test_array, #ivd_test_array_names, \n",
    "    patient_slices):\n",
    "    # Combine features, labels, and patient slices into a DataFrame\n",
    "    df = pd.DataFrame(\n",
    "        {'Reports': label_test_report, \n",
    "        'Conclusions': label_test_con, \n",
    "        'Label Scores': label_test_scores,\n",
    "        'Predicted Label': compare_test_array,\n",
    "        'IVD Test Array': ivd_test_array,\n",
    "        #'IVD Names': ivd_test_array_names,\n",
    "        'Patient Slices': patient_slices})\n",
    "\n",
    "    # Group by patient\n",
    "    grouped = df.groupby('Patient Slices')\n",
    "    \n",
    "    bag_report = []\n",
    "    bag_con = []\n",
    "    bag_score = []\n",
    "    bag_pred_label = []\n",
    "    bag_ivd_test_array = []\n",
    "    #bag_names = []\n",
    "    \n",
    "    for patient_slice, group in grouped:\n",
    "        # Combine slices into a bag\n",
    "        \n",
    "        bag_report.append(group['Reports'].iloc[0])\n",
    "        bag_con.append(group['Conclusions'].iloc[0])\n",
    "        bag_score.append(group['Label Scores'].iloc[0])\n",
    "        bag_pred_label.append(group['Predicted Label'].iloc[0])\n",
    "        bag_ivd_test_array.append(group['IVD Test Array'].tolist())\n",
    "        #bag_names.append(group['IVD Names'].tolist())\n",
    "    \n",
    "    return bag_report, bag_con, bag_score, bag_pred_label, bag_ivd_test_array, #bag_names\n",
    "\n",
    "(df_lab_test_report, \n",
    " df_lab_test_con, \n",
    " df_lab_test_scores, \n",
    " df_lab_pred_labels, \n",
    " #bag_ivd_test_array, \n",
    " bag_of_names) = mil_level_report(label_test_report, \n",
    "                                  label_test_con, \n",
    "                                  label_test_scores, \n",
    "                                  compare_test_array, \n",
    "                                  ivd_test_array, \n",
    "                                  #ivd_test_array_names, \n",
    "                                  test_pat_id_date)"
   ]
  },
  {
   "cell_type": "code",
   "execution_count": 38,
   "metadata": {},
   "outputs": [],
   "source": [
    "# # Visualise outputs at each step \n",
    "# counter = 20\n",
    "# zipped_results = list(zip(df_lab_test_report, df_lab_test_con, df_lab_test_scores, df_lab_pred_labels, test_labels, mil_test_pred, mil_test_scores, #bag_ivd_test_array, \n",
    "# bag_of_names))\n",
    "\n",
    "# for report, pred_con, pred_report_score, pred_report_label, true_report_label, pred_scan_label, pred_scan_score, ivd_name in zipped_results: #ivd, \n",
    "#     if counter <25:\n",
    "#         if pred_report_label == 1 and true_report_label == 1 and pred_scan_label == 1:\n",
    "#             counter += 1\n",
    "#             print(f'Report: {report}')\n",
    "#             print(f'Conclusion: {pred_con}')\n",
    "#             print(f'Predicted Report Score: {pred_report_score}')\n",
    "#             print(f'Predicted Report Label: {pred_report_label}')\n",
    "#             print(f'True Report Label: {true_report_label}')\n",
    "#             print(f'Predicted Scan Label: {pred_scan_label}')\n",
    "#             print(f'Predicted Scan Score: {pred_scan_score}')\n",
    "#             # Plot ivd\n",
    "#             # for i in range(len(ivd)):\n",
    "#             for i in range(len(ivd_name)):\n",
    "#                 #print(f'IVD: {ivd_name[i]}')\n",
    "#                 plt.imshow(ivd_name[i][:,3,:,:][0], cmap='gray')\n",
    "#                 plt.show()\n",
    "#                 print('\\n')\n",
    "#     elif counter == 25:\n",
    "#         break"
   ]
  },
  {
   "cell_type": "code",
   "execution_count": null,
   "metadata": {},
   "outputs": [],
   "source": []
  }
 ],
 "metadata": {
  "kernelspec": {
   "display_name": "spinenet",
   "language": "python",
   "name": "python3"
  },
  "language_info": {
   "codemirror_mode": {
    "name": "ipython",
    "version": 3
   },
   "file_extension": ".py",
   "mimetype": "text/x-python",
   "name": "python",
   "nbconvert_exporter": "python",
   "pygments_lexer": "ipython3",
   "version": "3.11.5"
  }
 },
 "nbformat": 4,
 "nbformat_minor": 2
}
