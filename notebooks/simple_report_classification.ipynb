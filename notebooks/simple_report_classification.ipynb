{
 "cells": [
  {
   "cell_type": "markdown",
   "metadata": {},
   "source": [
    "# Simple Text Classification \n",
    "In this notebook, we attempt to separate reports that indicate presence of cancer from those without cancer using non-LLM methods."
   ]
  },
  {
   "cell_type": "code",
   "execution_count": 1,
   "metadata": {},
   "outputs": [
    {
     "name": "stderr",
     "output_type": "stream",
     "text": [
      "/users/robinpark/miniconda3/envs/llama/lib/python3.9/site-packages/torch/onnx/_internal/_beartype.py:30: UserWarning: unhashable type: 'list'\n",
      "  warnings.warn(f\"{e}\")\n",
      "/users/robinpark/miniconda3/envs/llama/lib/python3.9/site-packages/tqdm/auto.py:21: TqdmWarning: IProgress not found. Please update jupyter and ipywidgets. See https://ipywidgets.readthedocs.io/en/stable/user_install.html\n",
      "  from .autonotebook import tqdm as notebook_tqdm\n"
     ]
    },
    {
     "name": "stdout",
     "output_type": "stream",
     "text": [
      "random_seed: 0\n",
      "work_dir: /work/robinpark\n",
      "root_dir: ${work_dir}/NCIMIPreprocessing\n",
      "raw_dicom_folder: ${work_dir}/data-apr23/PID010A\n",
      "clean_path: ${work_dir}/PID010A_clean\n",
      "unpaired_reports: /work/rhydian/ProcessedSpinalMRIReports/\n",
      "patient_metadata: ${clean_path}/patient_metadata.csv\n",
      "train_labeled_data: ${clean_path}/train_manually_labeled_set.csv\n",
      "llm_results_path: /work/robinpark/PID010A_clean/llm_results\n",
      "model_weights_save_path: /scratch/shared/beegfs/robinpark\n",
      "gpt_model: gpt-4\n",
      "adapter_base: meta-llama/Llama-2-7b-chat-hf\n",
      "adapter_model: ${model_weights_save_path}/gpt4-fine-tuned-llama2-7b\n",
      "labeled_data: ${clean_path}/segmented_test_manually_labeled_set.csv\n",
      "llama_tokenizer: hf-internal-testing/llama-tokenizer\n",
      "prompt_cue: evidence\n",
      "llama_model: HuggingFaceH4/zephyr-7b-beta\n",
      "\n"
     ]
    }
   ],
   "source": [
    "import os\n",
    "import pandas as pd\n",
    "import regex as re\n",
    "import spacy\n",
    "import matplotlib.pyplot as plt\n",
    "\n",
    "from datasets import Dataset \n",
    "from hydra import compose, initialize\n",
    "from omegaconf import OmegaConf, DictConfig\n",
    "from collections import defaultdict, Counter\n",
    "\n",
    "from sklearn.model_selection import train_test_split\n",
    "\n",
    "from sklearn.metrics import (\n",
    "    confusion_matrix, \n",
    "    ConfusionMatrixDisplay, \n",
    "    balanced_accuracy_score, \n",
    "    roc_auc_score, \n",
    "    classification_report,\n",
    "    f1_score\n",
    ")\n",
    "\n",
    "pd.options.mode.chained_assignment = None \n",
    "\n",
    "with initialize(version_base=None, config_path=\"../conf\", job_name=\"test\"):\n",
    "        cfg = compose(config_name=\"config\")\n",
    "        print(OmegaConf.to_yaml(cfg))"
   ]
  },
  {
   "cell_type": "markdown",
   "metadata": {},
   "source": [
    "## Word Frequency in Hand-Labeled Data\n",
    "We compare words that occur most frequently in hand-labeled data (cancer vs no cancer reports)."
   ]
  },
  {
   "cell_type": "code",
   "execution_count": 2,
   "metadata": {},
   "outputs": [],
   "source": [
    "def part_of_speech(doc, pos_tag, overlap_words):\n",
    "    # adverb tokens that arent stop words or punctuations\n",
    "    pos = [token.text.lower()\n",
    "            for token in doc\n",
    "            if (not token.is_stop and\n",
    "                not token.is_punct and\n",
    "                token.pos_ == pos_tag)]\n",
    "    pos = [i for i in pos if i not in overlap_words]\n",
    "    return pos\n",
    "\n",
    "def freq_count(li_words, num_words=10):\n",
    "    word_freq = Counter(li_words)\n",
    "    common_words = word_freq.most_common(num_words)\n",
    "    return common_words\n",
    "\n",
    "def get_overlap(cancer_words, nc_words):\n",
    "    overlap_words = [w for w,_ in cancer_words for i,_ in nc_words if w==i]\n",
    "    return overlap_words\n",
    "\n",
    "def create_counts(nlp, post, overlap_words=[]):\n",
    "    doc = nlp(post)\n",
    "    # all tokens that arent stop words or punctuations\n",
    "    words = [token.text.lower()\n",
    "            for token in doc\n",
    "            if not token.is_stop and\n",
    "               not token.is_punct and\n",
    "               not token.is_space]\n",
    "    words = [i for i in words if i not in overlap_words]\n",
    "\n",
    "    # tokens that arent stop words or punctuations by POS\n",
    "    nouns = part_of_speech(doc, \"NOUN\", overlap_words)\n",
    "    adjs = part_of_speech(doc, \"ADJ\", overlap_words)\n",
    "    advs = part_of_speech(doc, \"ADV\", overlap_words)\n",
    "    verbs = part_of_speech(doc, \"VERB\", overlap_words)\n",
    "\n",
    "    common_words = freq_count(words)\n",
    "    common_nouns = freq_count(nouns)\n",
    "    common_adjs = freq_count(adjs)\n",
    "    common_advs = freq_count(advs)\n",
    "    common_verbs = freq_count(verbs)\n",
    "\n",
    "    print(f'Common words: {common_words}')\n",
    "    print(f'Common nouns: {common_nouns}')\n",
    "    print(f'Common verbs: {common_verbs}')\n",
    "    print(f'Common adjectives: {common_adjs}')\n",
    "    print(f'Common adverbs: {common_advs}')\n",
    "\n",
    "    return common_words, common_nouns, common_verbs, common_adjs, common_advs\n",
    "\n",
    "def words_by_report(nlp, report):\n",
    "   doc = nlp(report)\n",
    "   words = [token.text.lower()\n",
    "            for token in doc\n",
    "            if not token.is_stop and\n",
    "               not token.is_punct and\n",
    "               not token.is_space]\n",
    "   return words\n",
    "\n",
    "def count_word(word, df_in):\n",
    "    df_in['mention_flag'] = df_in['report_text'].str.contains(word)\n",
    "    print(df_in['mention_flag'].sum())\n",
    "    return df_in.loc[df_in['mention_flag']==True]\n",
    "\n",
    "def show_results(df_cancer, df_nc):\n",
    "    mrg = pd.concat([df_cancer,df_nc]).reset_index(drop=True)\n",
    "    mrg.loc[mrg.results_cancer.isna(), 'results_cancer'] = 0\n",
    "\n",
    "    labels = mrg['spine_cancer'].astype(int)\n",
    "    pred = mrg['results_cancer'].astype(int)\n",
    "\n",
    "    class_report = classification_report(labels, pred, target_names=['no_cancer','cancer'])\n",
    "    balanced_acc = balanced_accuracy_score(labels, pred)\n",
    "    roc_auc = balanced_accuracy_score(labels, pred)\n",
    "    conf_mat = confusion_matrix(labels, pred)\n",
    "    f1 = f1_score(labels, pred)\n",
    "    disp = ConfusionMatrixDisplay(confusion_matrix=conf_mat,\n",
    "                                    display_labels=['No Cancer', 'Cancer'])\n",
    "\n",
    "    print(f'Balanced accuracy: {balanced_acc}')\n",
    "    print(f'ROC AUC score: {roc_auc}')\n",
    "    print(f'F1 score: {f1}')\n",
    "    print(class_report)\n",
    "    disp.plot(cmap=plt.cm.Blues)\n",
    "    return mrg\n",
    "\n",
    "def flag_words(df_cancer, df_nc, word, flag, exception=[]):\n",
    "    if exception != []:\n",
    "        df_cancer[flag] = df_cancer['words'].apply(lambda x: any(word in w for w in x if w not in exception))\n",
    "        df_nc[flag] = df_nc['words'].apply(lambda x: any(word in w for w in x if w not in exception))\n",
    "    else:\n",
    "        df_cancer[flag] = df_cancer['words'].apply(lambda x: any(word in w for w in x))\n",
    "        df_nc[flag] = df_nc['words'].apply(lambda x: any(word in w for w in x))\n",
    "\n",
    "def flag_phrase(df_cancer, df_nc, phrase, flag):\n",
    "    df_cancer.loc[df_cancer['report_text'].str.lower().str.find(phrase) > -1, flag] = True\n",
    "    df_cancer.loc[df_cancer[flag].isna(), flag] = False\n",
    "    df_nc.loc[df_nc['report_text'].str.lower().str.find(phrase) > -1, flag] = True\n",
    "    df_nc.loc[df_nc[flag].isna(), flag] = False\n",
    "\n",
    "def formatting_func(example):\n",
    "    if example['flag_cancer'] == 1:\n",
    "        output = 'Based on the report, the patient has cancer (%).'\n",
    "    else:\n",
    "        output = 'Based on the report, the patient does not have cancer ($).'\n",
    "    example['input_output'] = f\"\"\"\\\n",
    "        ### Question: Does the patient have metastatic spinal cancer, affecting the bones, marrow or spinal cord?\n",
    "\n",
    "                Output ONLY ONE value according to these rules:\n",
    "\n",
    "                1. If spinal cancer is not present, you must assign a value of '$'.\n",
    "                2. If spinal cancer is present, you must assign a value of '%'.\n",
    "                \n",
    "            Let's think step by step.\n",
    "        \n",
    "        ### Report: {example['report_text']}\\n \n",
    "        \n",
    "        ### Answer: {output}\"\"\"\n",
    "        \n",
    "    return example['input_output']"
   ]
  },
  {
   "cell_type": "code",
   "execution_count": 3,
   "metadata": {},
   "outputs": [],
   "source": [
    "# Import hand-labeled data\n",
    "df_train_labeled = pd.read_csv(cfg.train_labeled_data, index_col=0)"
   ]
  },
  {
   "cell_type": "code",
   "execution_count": 4,
   "metadata": {},
   "outputs": [],
   "source": [
    "# Separate cancer with no cancer\n",
    "df_train_cancer = df_train_labeled.loc[df_train_labeled.spine_cancer == 1].reset_index(drop=True)\n",
    "df_train_nc = df_train_labeled.loc[df_train_labeled.spine_cancer == 0].reset_index(drop=True)\n",
    "\n",
    "# Append reports of each kind\n",
    "cancer_reports = df_train_cancer['report_text'].str.cat(sep=', ')\n",
    "no_cancer_reports = df_train_nc['report_text'].str.cat(sep=', ')"
   ]
  },
  {
   "cell_type": "code",
   "execution_count": 5,
   "metadata": {},
   "outputs": [],
   "source": [
    "# Initialise spacy model\n",
    "nlp = spacy.load(\"en_core_web_sm\")"
   ]
  },
  {
   "cell_type": "code",
   "execution_count": 6,
   "metadata": {},
   "outputs": [
    {
     "name": "stdout",
     "output_type": "stream",
     "text": [
      "-----Common words in cancer reports-----\n",
      "Common words: [('spine', 402), ('cord', 320), ('vertebral', 280), ('spinal', 218), ('compression', 206), ('mri', 203), ('metastatic', 181), ('canal', 179), ('left', 178), ('signal', 164)]\n",
      "Common nouns: [('cord', 294), ('spine', 282), ('compression', 198), ('canal', 177), ('signal', 156), ('body', 154), ('disc', 150), ('disease', 149), ('evidence', 133), ('level', 108)]\n",
      "Common verbs: [('noted', 88), ('seen', 68), ('demonstrated', 56), ('left', 51), ('compared', 38), ('associated', 36), ('known', 32), ('keeping', 29), ('involving', 29), ('visualised', 25)]\n",
      "Common adjectives: [('vertebral', 280), ('spinal', 186), ('metastatic', 156), ('cervical', 138), ('normal', 118), ('posterior', 116), ('degenerative', 113), ('previous', 110), ('left', 103), ('significant', 94)]\n",
      "Common adverbs: [('likely', 21), ('bilaterally', 18), ('right', 18), ('previously', 17), ('particularly', 15), ('significantly', 14), ('currently', 13), ('anteriorly', 12), ('broad', 12), ('posteriorly', 10)]\n",
      "\n",
      "\n",
      "-----Common words in no cancer reports-----\n",
      "Common words: [('spine', 256), ('disc', 208), ('normal', 163), ('cord', 160), ('mri', 147), ('cervical', 117), ('spinal', 111), ('signal', 104), ('left', 102), ('compression', 99)]\n",
      "Common nouns: [('disc', 196), ('spine', 155), ('cord', 155), ('signal', 96), ('compression', 94), ('nerve', 91), ('changes', 81), ('change', 72), ('root', 66), ('marrow', 63)]\n",
      "Common verbs: [('seen', 40), ('left', 39), ('suggest', 29), ('noted', 27), ('visualised', 19), ('demonstrated', 19), ('reduced', 18), ('maintained', 16), ('causing', 13), ('identified', 12)]\n",
      "Common adjectives: [('normal', 155), ('cervical', 104), ('spinal', 94), ('degenerative', 82), ('vertebral', 75), ('right', 69), ('mild', 65), ('significant', 62), ('left', 55), ('previous', 49)]\n",
      "Common adverbs: [('right', 13), ('likely', 13), ('slightly', 12), ('l4/5', 9), ('normally', 9), ('bilaterally', 7), ('previously', 7), ('moderately', 6), ('significantly', 5), ('probably', 5)]\n"
     ]
    }
   ],
   "source": [
    "print('-----Common words in cancer reports-----')\n",
    "cancer_words, cancer_nouns, cancer_verbs, cancer_adjs, cancer_advs = create_counts(nlp, cancer_reports)\n",
    "print('\\n')\n",
    "print('-----Common words in no cancer reports-----')\n",
    "nc_words, nc_nouns, nc_verbs, nc_adjs, nc_advs = create_counts(nlp, no_cancer_reports)"
   ]
  },
  {
   "cell_type": "code",
   "execution_count": 7,
   "metadata": {},
   "outputs": [],
   "source": [
    "# Collate words that overlap across classes to remove them from frequency calculation\n",
    "overlap_words = get_overlap(cancer_words, nc_words)\n",
    "overlap_nouns = get_overlap(cancer_nouns, nc_nouns)\n",
    "overlap_adjs = get_overlap(cancer_adjs, nc_adjs)\n",
    "overlap_advs = get_overlap(cancer_advs, nc_adjs)\n",
    "overlap_verbs = get_overlap(cancer_verbs, nc_verbs)\n",
    "all_overlaps = overlap_words + overlap_nouns + overlap_adjs + overlap_advs + overlap_verbs"
   ]
  },
  {
   "cell_type": "code",
   "execution_count": 8,
   "metadata": {},
   "outputs": [
    {
     "name": "stdout",
     "output_type": "stream",
     "text": [
      "-----Common words in cancer reports (excluding overlaps)-----\n",
      "Common words: [('metastatic', 181), ('canal', 179), ('body', 156), ('disease', 152), ('evidence', 133), ('lumbar', 131), ('posterior', 123), ('nerve', 112), ('level', 110), ('changes', 106)]\n",
      "Common nouns: [('canal', 177), ('body', 154), ('disease', 149), ('evidence', 133), ('level', 108), ('pain', 105), ('changes', 103), ('nerve', 94), ('marrow', 93), ('thoracic', 91)]\n",
      "Common verbs: [('compared', 38), ('associated', 36), ('known', 32), ('keeping', 29), ('involving', 29), ('worsening', 25), ('appear', 25), ('described', 24), ('causing', 24), ('extending', 24)]\n",
      "Common adjectives: [('metastatic', 156), ('posterior', 116), ('foraminal', 81), ('mild', 77), ('new', 74), ('lower', 68), ('axial', 66), ('multiple', 63), ('central', 62), ('soft', 52)]\n",
      "Common adverbs: [('likely', 21), ('bilaterally', 18), ('previously', 17), ('particularly', 15), ('significantly', 14), ('currently', 13), ('anteriorly', 12), ('broad', 12), ('posteriorly', 10), ('locally', 9)]\n",
      "\n",
      "\n",
      "-----Common words in no cancer reports (excluding overlaps)-----\n",
      "Common words: [('lumbar', 95), ('nerve', 95), ('l5', 94), ('changes', 81), ('clinical', 76), ('change', 72), ('marrow', 70), ('mild', 67), ('root', 66), ('history', 62)]\n",
      "Common nouns: [('nerve', 91), ('changes', 81), ('change', 72), ('root', 66), ('marrow', 63), ('history', 62), ('stenosis', 59), ('canal', 57), ('pain', 55), ('evidence', 53)]\n",
      "Common verbs: [('suggest', 29), ('reduced', 18), ('maintained', 16), ('causing', 13), ('identified', 12), ('weighted', 11), ('exiting', 10), ('performed', 10), ('shown', 10), ('terminates', 10)]\n",
      "Common adjectives: [('mild', 65), ('posterior', 40), ('foraminal', 38), ('neural', 36), ('lower', 36), ('lateral', 35), ('anterior', 34), ('inflammatory', 34), ('central', 33), ('minor', 31)]\n",
      "Common adverbs: [('likely', 13), ('slightly', 12), ('l4/5', 9), ('normally', 9), ('bilaterally', 7), ('previously', 7), ('moderately', 6), ('significantly', 5), ('probably', 5), ('mildly', 4)]\n"
     ]
    }
   ],
   "source": [
    "print('-----Common words in cancer reports (excluding overlaps)-----')\n",
    "cancer_words, cancer_nouns, cancer_verbs, cancer_adjs, cancer_advs = create_counts(nlp, cancer_reports, all_overlaps)\n",
    "print('\\n')\n",
    "print('-----Common words in no cancer reports (excluding overlaps)-----')\n",
    "nc_words, nc_nouns, nc_verbs, nc_adjs, nc_advs = create_counts(nlp, no_cancer_reports, all_overlaps)"
   ]
  },
  {
   "cell_type": "code",
   "execution_count": 9,
   "metadata": {},
   "outputs": [],
   "source": [
    "df_train_cancer['words'] = df_train_cancer['report_text'].apply(lambda x: words_by_report(nlp, x))\n",
    "df_train_nc['words'] = df_train_nc['report_text'].apply(lambda x: words_by_report(nlp, x))"
   ]
  },
  {
   "cell_type": "code",
   "execution_count": 10,
   "metadata": {},
   "outputs": [],
   "source": [
    "flag_words(df_train_cancer, df_train_nc, 'cancer', 'cancer')\n",
    "flag_words(df_train_cancer, df_train_nc, 'heterogeneous', 'hetgen')\n",
    "flag_words(df_train_cancer, df_train_nc, 'oma', 'oma', \n",
    "           exception=['haemangioma','haemangiomas','lipoma',\n",
    "                      'myelomalacia','myelomalacic','anomaly'])\n",
    "\n",
    "flag_phrase(df_train_cancer, df_train_nc, 'metasta', 'met')\n",
    "flag_phrase(df_train_cancer, df_train_nc, 'no metasta', 'no_met')\n",
    "flag_phrase(df_train_cancer, df_train_nc, 'no evidence of metasta', 'no_evi_met')"
   ]
  },
  {
   "cell_type": "code",
   "execution_count": 11,
   "metadata": {},
   "outputs": [
    {
     "name": "stdout",
     "output_type": "stream",
     "text": [
      "--REPORTS WITH CANCER--\n",
      "cancer: 37\n",
      "hetgen: 8\n",
      "oma: 57\n",
      "met: 101\n",
      "no_met: 3\n",
      "no_evi_met: 6\n"
     ]
    }
   ],
   "source": [
    "print('--REPORTS WITH CANCER--')\n",
    "for flag in ['cancer', 'hetgen', 'oma', 'met', 'no_met', 'no_evi_met']: \n",
    "    cancer_count = df_train_cancer[flag].loc[df_train_cancer[flag] == True].count()\n",
    "    print(flag + ': ' + cancer_count.astype(str))"
   ]
  },
  {
   "cell_type": "code",
   "execution_count": 12,
   "metadata": {},
   "outputs": [
    {
     "name": "stdout",
     "output_type": "stream",
     "text": [
      "--REPORTS WITHOUT CANCER--\n",
      "cancer: 5\n",
      "hetgen: 3\n",
      "oma: 10\n",
      "met: 10\n",
      "no_met: 2\n",
      "no_evi_met: 5\n"
     ]
    }
   ],
   "source": [
    "print('--REPORTS WITHOUT CANCER--')\n",
    "for flag in ['cancer', 'hetgen', 'oma', 'met', 'no_met', 'no_evi_met']: \n",
    "    nc_count = df_train_nc[flag].loc[df_train_nc[flag] == True].count()\n",
    "    print(flag + ': ' + nc_count.astype(str))"
   ]
  },
  {
   "cell_type": "code",
   "execution_count": 13,
   "metadata": {},
   "outputs": [],
   "source": [
    "df_train_cancer.loc[\n",
    "    ((df_train_cancer.met == True) | (df_train_cancer.oma == True)) & \n",
    "    ((df_train_cancer.no_evi_met == False) & (df_train_cancer.no_met == False)),\n",
    "    'results_cancer'\n",
    "] = 1"
   ]
  },
  {
   "cell_type": "code",
   "execution_count": 14,
   "metadata": {},
   "outputs": [],
   "source": [
    "df_train_nc.loc[\n",
    "    ((df_train_nc.met == True) | (df_train_nc.oma == True)) & \n",
    "    ((df_train_nc.no_evi_met == False) & (df_train_nc.no_met == False)),\n",
    "    'results_cancer'\n",
    "] = 1"
   ]
  },
  {
   "cell_type": "code",
   "execution_count": 15,
   "metadata": {},
   "outputs": [
    {
     "name": "stdout",
     "output_type": "stream",
     "text": [
      "Balanced accuracy: 0.8911764705882352\n",
      "ROC AUC score: 0.8911764705882352\n",
      "F1 score: 0.9152542372881356\n",
      "              precision    recall  f1-score   support\n",
      "\n",
      "   no_cancer       0.83      0.88      0.86        85\n",
      "      cancer       0.93      0.90      0.92       150\n",
      "\n",
      "    accuracy                           0.89       235\n",
      "   macro avg       0.88      0.89      0.89       235\n",
      "weighted avg       0.90      0.89      0.89       235\n",
      "\n"
     ]
    },
    {
     "data": {
      "image/png": "[encoded data removed]",
      "text/plain": [
       "<Figure size 640x480 with 2 Axes>"
      ]
     },
     "metadata": {},
     "output_type": "display_data"
    }
   ],
   "source": [
    "df_train_regex = show_results(df_train_cancer, df_train_nc)"
   ]
  },
  {
   "cell_type": "code",
   "execution_count": 16,
   "metadata": {},
   "outputs": [
    {
     "data": {
      "text/plain": [
       "1    150\n",
       "0     85\n",
       "Name: spine_cancer, dtype: int64"
      ]
     },
     "execution_count": 16,
     "metadata": {},
     "output_type": "execute_result"
    }
   ],
   "source": [
    "df_train_labeled.spine_cancer.value_counts()"
   ]
  },
  {
   "cell_type": "markdown",
   "metadata": {},
   "source": [
    "## Attempt on Test Set"
   ]
  },
  {
   "cell_type": "code",
   "execution_count": 25,
   "metadata": {},
   "outputs": [],
   "source": [
    "df_test = pd.read_csv(cfg.labeled_data, index_col=0)"
   ]
  },
  {
   "cell_type": "code",
   "execution_count": 26,
   "metadata": {},
   "outputs": [
    {
     "data": {
      "text/plain": [
       "1    256\n",
       "0    157\n",
       "Name: spine_cancer, dtype: int64"
      ]
     },
     "execution_count": 26,
     "metadata": {},
     "output_type": "execute_result"
    }
   ],
   "source": [
    "df_test.spine_cancer.value_counts()"
   ]
  },
  {
   "cell_type": "code",
   "execution_count": 28,
   "metadata": {},
   "outputs": [],
   "source": [
    "df_test_cancer = df_test.loc[df_test.spine_cancer==1]\n",
    "df_test_nc = df_test.loc[df_test.spine_cancer==0]\n",
    "\n",
    "df_test_cancer['words'] = df_test_cancer['report_text'].apply(lambda x: words_by_report(nlp, x))\n",
    "df_test_nc['words'] = df_test_nc['report_text'].apply(lambda x: words_by_report(nlp, x))"
   ]
  },
  {
   "cell_type": "code",
   "execution_count": 29,
   "metadata": {},
   "outputs": [],
   "source": [
    "flag_words(df_test_cancer, df_test_nc, 'cancer', 'cancer')\n",
    "flag_words(df_test_cancer, df_test_nc, 'heterogeneous', 'hetgen')\n",
    "flag_words(df_test_cancer, df_test_nc, 'oma', 'oma', exception=['haemangioma','haemangiomas'])\n",
    "\n",
    "flag_phrase(df_test_cancer, df_test_nc, 'metasta', 'met')\n",
    "flag_phrase(df_test_cancer, df_test_nc, 'no metasta', 'no_met')\n",
    "flag_phrase(df_test_cancer, df_test_nc, 'no evidence of metasta', 'no_evi_met')"
   ]
  },
  {
   "cell_type": "code",
   "execution_count": 30,
   "metadata": {},
   "outputs": [],
   "source": [
    "df_test_cancer.loc[\n",
    "    ((df_test_cancer.met == True) | (df_test_cancer.oma == True)) & \n",
    "    ((df_test_cancer.no_evi_met == False) & (df_test_cancer.no_met == False)),\n",
    "    'results_cancer'\n",
    "] = 1"
   ]
  },
  {
   "cell_type": "code",
   "execution_count": 31,
   "metadata": {},
   "outputs": [],
   "source": [
    "df_test_nc.loc[\n",
    "    ((df_test_nc.met == True) | (df_test_nc.oma == True)) & \n",
    "    ((df_test_nc.no_evi_met == False) & (df_test_nc.no_met == False)),\n",
    "    'results_cancer'\n",
    "] = 1"
   ]
  },
  {
   "cell_type": "code",
   "execution_count": 32,
   "metadata": {},
   "outputs": [
    {
     "name": "stdout",
     "output_type": "stream",
     "text": [
      "Balanced accuracy: 0.8379652667197452\n",
      "ROC AUC score: 0.8379652667197452\n",
      "F1 score: 0.888468809073724\n",
      "              precision    recall  f1-score   support\n",
      "\n",
      "   no_cancer       0.85      0.76      0.80       157\n",
      "      cancer       0.86      0.92      0.89       256\n",
      "\n",
      "    accuracy                           0.86       413\n",
      "   macro avg       0.86      0.84      0.84       413\n",
      "weighted avg       0.86      0.86      0.86       413\n",
      "\n"
     ]
    },
    {
     "data": {
      "image/png": "[encoded data removed]",
      "text/plain": [
       "<Figure size 640x480 with 2 Axes>"
      ]
     },
     "metadata": {},
     "output_type": "display_data"
    }
   ],
   "source": [
    "df_test_regex = show_results(df_test_cancer, df_test_nc)"
   ]
  },
  {
   "cell_type": "markdown",
   "metadata": {},
   "source": [
    "## Apply Separation to Unpaired Reports\n",
    "Create a larger training set for prompt tuning, using unpaired reports without images."
   ]
  },
  {
   "cell_type": "code",
   "execution_count": null,
   "metadata": {},
   "outputs": [],
   "source": [
    "up_reports_train = pd.read_csv(cfg.unpaired_reports + 'unpaired_reports_train.csv', index_col=0)\n",
    "up_reports_val = pd.read_csv(cfg.unpaired_reports + 'unpaired_reports_val.csv', index_col=0)\n",
    "up_reports_test = pd.read_csv(cfg.unpaired_reports + 'unpaired_reports_test.csv', index_col=0)"
   ]
  },
  {
   "cell_type": "code",
   "execution_count": null,
   "metadata": {},
   "outputs": [],
   "source": [
    "up_reports = pd.concat([up_reports_train, up_reports_val, up_reports_test]).reset_index(drop=True)"
   ]
  },
  {
   "cell_type": "code",
   "execution_count": null,
   "metadata": {},
   "outputs": [],
   "source": [
    "up_reports['words'] = up_reports['Report text'].apply(lambda x: words_by_report(nlp, x))"
   ]
  },
  {
   "cell_type": "code",
   "execution_count": null,
   "metadata": {},
   "outputs": [],
   "source": [
    "up_reports = up_reports.rename(columns={'Report text':'report_text'})"
   ]
  },
  {
   "cell_type": "code",
   "execution_count": null,
   "metadata": {},
   "outputs": [],
   "source": [
    "flag_words(up_reports, up_reports, 'cancer', 'cancer')\n",
    "flag_words(up_reports, up_reports, 'heterogeneous', 'hetgen')\n",
    "flag_words(up_reports, up_reports, 'oma', 'oma', exception=['haemangioma','haemangiomas'])\n",
    "\n",
    "flag_phrase(up_reports, up_reports, 'metasta', 'met')\n",
    "flag_phrase(up_reports, up_reports, 'no metasta', 'no_met')\n",
    "flag_phrase(up_reports, up_reports, 'no evidence of metasta', 'no_evi_met')"
   ]
  },
  {
   "cell_type": "code",
   "execution_count": null,
   "metadata": {},
   "outputs": [],
   "source": [
    "up_reports.loc[\n",
    "    (((up_reports.met == True) | (up_reports.oma == True)) & \n",
    "    ((up_reports.no_evi_met == False) & (up_reports.no_met == False))),\n",
    "    'flag_cancer'\n",
    "] = 1"
   ]
  },
  {
   "cell_type": "code",
   "execution_count": null,
   "metadata": {},
   "outputs": [],
   "source": [
    "up_reports.loc[up_reports.flag_cancer.isna(), 'flag_cancer'] = 0"
   ]
  },
  {
   "cell_type": "code",
   "execution_count": null,
   "metadata": {},
   "outputs": [],
   "source": [
    "up_reports.flag_cancer.value_counts()"
   ]
  },
  {
   "cell_type": "code",
   "execution_count": null,
   "metadata": {},
   "outputs": [],
   "source": [
    "up_reports.to_csv(cfg.clean_path + '/unpaired_reports_flagged.csv')"
   ]
  },
  {
   "cell_type": "code",
   "execution_count": null,
   "metadata": {},
   "outputs": [],
   "source": [
    "up_reports = pd.read_csv(cfg.clean_path + '/unpaired_reports_flagged.csv', index_col=0)"
   ]
  },
  {
   "cell_type": "code",
   "execution_count": null,
   "metadata": {},
   "outputs": [],
   "source": [
    "full_unpaired = up_reports[['report_text','flag_cancer']]"
   ]
  },
  {
   "cell_type": "code",
   "execution_count": null,
   "metadata": {},
   "outputs": [],
   "source": [
    "unpaired_cancer = full_unpaired[full_unpaired['flag_cancer']==1]\n",
    "unpaired_nc = (full_unpaired[full_unpaired['flag_cancer']==0]).sample(len(unpaired_cancer),random_state=1)"
   ]
  },
  {
   "cell_type": "code",
   "execution_count": null,
   "metadata": {},
   "outputs": [],
   "source": [
    "unpaired_balanced = pd.concat([unpaired_cancer,unpaired_nc]).reset_index(drop=True)\n",
    "unpaired_balanced['input_output'] = unpaired_balanced.apply(lambda x: formatting_func(x), axis=1)\n",
    "unpaired_balanced_train, unpaired_balanced_test = train_test_split(unpaired_balanced, test_size=500, random_state=1, \n",
    "                                                                   stratify=unpaired_balanced['flag_cancer'])\n",
    "\n",
    "# For a larger test set\n",
    "# unpaired_balanced_train, unpaired_balanced_test = train_test_split(unpaired_balanced, test_size=0.3, random_state=1, \n",
    "#                                                                    stratify=unpaired_balanced['flag_cancer'])"
   ]
  },
  {
   "cell_type": "code",
   "execution_count": null,
   "metadata": {},
   "outputs": [
    {
     "name": "stdout",
     "output_type": "stream",
     "text": [
      "44244\n",
      "500\n"
     ]
    }
   ],
   "source": [
    "print(len(unpaired_balanced_train))\n",
    "print(len(unpaired_balanced_test))"
   ]
  },
  {
   "cell_type": "code",
   "execution_count": null,
   "metadata": {},
   "outputs": [],
   "source": [
    "dataset_train = Dataset.from_pandas(unpaired_balanced_train[['input_output']].reset_index(drop=True))\n",
    "dataset_test = Dataset.from_pandas(unpaired_balanced_test[['input_output']].reset_index(drop=True))"
   ]
  },
  {
   "cell_type": "code",
   "execution_count": null,
   "metadata": {},
   "outputs": [
    {
     "name": "stderr",
     "output_type": "stream",
     "text": [
      "Creating json from Arrow format:   0%|          | 0/45 [00:00<?, ?ba/s]"
     ]
    },
    {
     "name": "stderr",
     "output_type": "stream",
     "text": [
      "Creating json from Arrow format: 100%|██████████| 45/45 [00:00<00:00, 73.53ba/s]\n",
      "Creating json from Arrow format: 100%|██████████| 1/1 [00:00<00:00, 78.65ba/s]\n"
     ]
    },
    {
     "data": {
      "text/plain": [
       "777155"
      ]
     },
     "execution_count": 12,
     "metadata": {},
     "output_type": "execute_result"
    }
   ],
   "source": [
    "dataset_train.to_json(os.path.join(cfg.clean_path,\"unpaired_bal_train2.json\"))\n",
    "dataset_test.to_json(os.path.join(cfg.clean_path,\"unpaired_bal_test2.json\"))\n",
    "\n",
    "# Versions with larger test set (30%)\n",
    "# dataset_train.to_json(os.path.join(cfg.clean_path,\"unpaired_bal_train.json\"))\n",
    "# dataset_test.to_json(os.path.join(cfg.clean_path,\"unpaired_bal_test.json\"))"
   ]
  },
  {
   "cell_type": "markdown",
   "metadata": {},
   "source": [
    "## Chexpert Mention Classification"
   ]
  },
  {
   "cell_type": "code",
   "execution_count": null,
   "metadata": {},
   "outputs": [
    {
     "name": "stderr",
     "output_type": "stream",
     "text": [
      "[nltk_data] Downloading package punkt to /users/robinpark/nltk_data...\n",
      "[nltk_data]   Package punkt is already up-to-date!\n"
     ]
    },
    {
     "data": {
      "text/plain": [
       "True"
      ]
     },
     "execution_count": 5,
     "metadata": {},
     "output_type": "execute_result"
    }
   ],
   "source": [
    "from nltk.tokenize import sent_tokenize\n",
    "import nltk \n",
    "\n",
    "nltk.download('punkt')"
   ]
  },
  {
   "cell_type": "code",
   "execution_count": null,
   "metadata": {},
   "outputs": [],
   "source": [
    "df_train_cancer['sents'] = df_train_cancer['report_text'].apply(lambda x: sent_tokenize(x))\n",
    "df_train_nc['sents'] = df_train_nc['report_text'].apply(lambda x: sent_tokenize(x))"
   ]
  },
  {
   "cell_type": "code",
   "execution_count": null,
   "metadata": {},
   "outputs": [
    {
     "name": "stdout",
     "output_type": "stream",
     "text": [
      "Model directory: /users/robinpark/.local/share/bllipparser/GENIA+PubMed\n",
      "Model directory already exists, not reinstalling\n"
     ]
    }
   ],
   "source": [
    "from bllipparser import RerankingParser\n",
    "\n",
    "rrp = RerankingParser.fetch_and_load('GENIA+PubMed', verbose=True)"
   ]
  },
  {
   "cell_type": "code",
   "execution_count": null,
   "metadata": {},
   "outputs": [],
   "source": [
    "def parse_bllip(li_sents):\n",
    "    li_parsed = []\n",
    "    for i in li_sents:\n",
    "        # Exclude punctuation and single character sentences\n",
    "        if len(i) > 1:\n",
    "            li_parsed.append(rrp.simple_parse(i))\n",
    "    return li_parsed"
   ]
  },
  {
   "cell_type": "code",
   "execution_count": null,
   "metadata": {},
   "outputs": [],
   "source": [
    "df_train_cancer['parsed_sents'] = df_train_cancer['sents'].apply(lambda x: parse_bllip(x))"
   ]
  },
  {
   "cell_type": "code",
   "execution_count": null,
   "metadata": {},
   "outputs": [],
   "source": [
    "df_train_nc['parsed_sents'] = df_train_nc['sents'].apply(lambda x: parse_bllip(x))"
   ]
  },
  {
   "cell_type": "markdown",
   "metadata": {},
   "source": [
    "### Chexpert Results"
   ]
  },
  {
   "cell_type": "code",
   "execution_count": null,
   "metadata": {},
   "outputs": [],
   "source": [
    "# Create Chexpert set to run\n",
    "df_train_labeled['report_text'] = df_train_labeled['report_text'].apply(lambda x: f'\"{x}\"')\n",
    "df_train_labeled[['report_text']].to_csv(\"/work/robinpark/PID010A_clean/train_chexpert_input.csv\", header=False, index=False)\n",
    "\n",
    "df_test['report_text'] = df_test['report_text'].apply(lambda x: f'\"{x}\"')\n",
    "df_test[['report_text']].to_csv(\"/work/robinpark/PID010A_clean/test_chexpert_input.csv\", header=False, index=False)"
   ]
  },
  {
   "cell_type": "code",
   "execution_count": null,
   "metadata": {},
   "outputs": [],
   "source": [
    "def chexpert_results_prep(train=True):\n",
    "    if train:\n",
    "        flag = 'train'\n",
    "        df_labels = df_train_labeled\n",
    "    else:\n",
    "        flag = 'test'\n",
    "        df_labels = df_test\n",
    "    df_chexpert = pd.read_csv(f'/work/robinpark/PID010A_clean/llm_results/chexpert_{flag}_results.csv')\n",
    "    df_chexpert_mrg = df_labels[['report_text','spine_cancer']]\n",
    "    df_mrg = df_chexpert.merge(df_chexpert_mrg, left_index=True, right_index=True, how='left').rename(columns={'Cancer':'results_cancer'})\n",
    "    df_mrg.loc[(df_mrg.results_cancer.isna()) | (df_mrg.results_cancer < 0), 'results_cancer'] = 0\n",
    "    return df_mrg"
   ]
  },
  {
   "cell_type": "code",
   "execution_count": null,
   "metadata": {},
   "outputs": [],
   "source": [
    "def summ_results(mrg):    \n",
    "\n",
    "    labels = mrg['spine_cancer'].astype(int)\n",
    "    pred = mrg['results_cancer'].astype(int)\n",
    "\n",
    "    class_report = classification_report(labels, pred, target_names=['no_cancer','cancer'])\n",
    "    balanced_acc = balanced_accuracy_score(labels, pred)\n",
    "    roc_auc = balanced_accuracy_score(labels, pred)\n",
    "    conf_mat = confusion_matrix(labels, pred)\n",
    "    f1 = f1_score(labels, pred)\n",
    "    disp = ConfusionMatrixDisplay(confusion_matrix=conf_mat,\n",
    "                                  display_labels=['No Cancer', 'Cancer'])\n",
    "    \n",
    "    print(f'\\n----RESULTS FOR CHEXPERT -----\\n')\n",
    "    print(f'Balanced accuracy: {balanced_acc}')\n",
    "    print(f'ROC AUC score: {roc_auc}')\n",
    "    print(f'F1 score: {f1}')\n",
    "    print(class_report)\n",
    "    disp.plot(cmap=plt.cm.Blues)\n",
    "\n",
    "    return mrg"
   ]
  },
  {
   "cell_type": "code",
   "execution_count": null,
   "metadata": {},
   "outputs": [
    {
     "name": "stdout",
     "output_type": "stream",
     "text": [
      "\n",
      "----RESULTS FOR CHEXPERT -----\n",
      "\n",
      "Balanced accuracy: 0.8370588235294117\n",
      "ROC AUC score: 0.8370588235294117\n",
      "F1 score: 0.9102167182662539\n",
      "              precision    recall  f1-score   support\n",
      "\n",
      "   no_cancer       0.95      0.69      0.80        85\n",
      "      cancer       0.85      0.98      0.91       150\n",
      "\n",
      "    accuracy                           0.88       235\n",
      "   macro avg       0.90      0.84      0.86       235\n",
      "weighted avg       0.89      0.88      0.87       235\n",
      "\n"
     ]
    },
    {
     "data": {
      "image/png": "[encoded data removed]",
      "text/plain": [
       "<Figure size 640x480 with 2 Axes>"
      ]
     },
     "metadata": {},
     "output_type": "display_data"
    }
   ],
   "source": [
    "df_mrg_train = chexpert_results_prep(train=True)\n",
    "df_chexpert_train = summ_results(df_mrg_train)"
   ]
  },
  {
   "cell_type": "code",
   "execution_count": null,
   "metadata": {},
   "outputs": [
    {
     "name": "stdout",
     "output_type": "stream",
     "text": [
      "\n",
      "----RESULTS FOR CHEXPERT -----\n",
      "\n",
      "Balanced accuracy: 0.7945768180689998\n",
      "ROC AUC score: 0.7945768180689998\n",
      "F1 score: 0.8706739526411658\n",
      "              precision    recall  f1-score   support\n",
      "\n",
      "   no_cancer       0.87      0.65      0.74       158\n",
      "      cancer       0.81      0.94      0.87       255\n",
      "\n",
      "    accuracy                           0.83       413\n",
      "   macro avg       0.84      0.79      0.81       413\n",
      "weighted avg       0.83      0.83      0.82       413\n",
      "\n"
     ]
    },
    {
     "data": {
      "image/png": "[encoded data removed]",
      "text/plain": [
       "<Figure size 640x480 with 2 Axes>"
      ]
     },
     "metadata": {},
     "output_type": "display_data"
    }
   ],
   "source": [
    "df_mrg_test = chexpert_results_prep(train=False)\n",
    "df_chexpert_test = summ_results(df_mrg_test)"
   ]
  },
  {
   "cell_type": "code",
   "execution_count": null,
   "metadata": {},
   "outputs": [],
   "source": []
  }
 ],
 "metadata": {
  "kernelspec": {
   "display_name": "llama",
   "language": "python",
   "name": "python3"
  },
  "language_info": {
   "codemirror_mode": {
    "name": "ipython",
    "version": 3
   },
   "file_extension": ".py",
   "mimetype": "text/x-python",
   "name": "python",
   "nbconvert_exporter": "python",
   "pygments_lexer": "ipython3",
   "version": "3.9.0"
  }
 },
 "nbformat": 4,
 "nbformat_minor": 2
}
